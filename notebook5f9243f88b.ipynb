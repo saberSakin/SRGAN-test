{
 "cells": [
  {
   "cell_type": "code",
   "execution_count": 1,
   "id": "fe4c1424",
   "metadata": {
    "execution": {
     "iopub.execute_input": "2024-03-10T17:45:44.233652Z",
     "iopub.status.busy": "2024-03-10T17:45:44.233219Z",
     "iopub.status.idle": "2024-03-10T17:45:44.246256Z",
     "shell.execute_reply": "2024-03-10T17:45:44.245016Z"
    },
    "papermill": {
     "duration": 0.019973,
     "end_time": "2024-03-10T17:45:44.249043",
     "exception": false,
     "start_time": "2024-03-10T17:45:44.229070",
     "status": "completed"
    },
    "tags": []
   },
   "outputs": [],
   "source": [
    "import numpy as np"
   ]
  }
 ],
 "metadata": {
  "kaggle": {
   "accelerator": "none",
   "dataSources": [],
   "isGpuEnabled": false,
   "isInternetEnabled": true,
   "language": "python",
   "sourceType": "notebook"
  },
  "kernelspec": {
   "display_name": "Python 3",
   "language": "python",
   "name": "python3"
  },
  "language_info": {
   "codemirror_mode": {
    "name": "ipython",
    "version": 3
   },
   "file_extension": ".py",
   "mimetype": "text/x-python",
   "name": "python",
   "nbconvert_exporter": "python",
   "pygments_lexer": "ipython3",
   "version": "3.10.13"
  },
  "papermill": {
   "default_parameters": {},
   "duration": 3.696914,
   "end_time": "2024-03-10T17:45:44.672011",
   "environment_variables": {},
   "exception": null,
   "input_path": "__notebook__.ipynb",
   "output_path": "__notebook__.ipynb",
   "parameters": {},
   "start_time": "2024-03-10T17:45:40.975097",
   "version": "2.5.0"
  }
 },
 "nbformat": 4,
 "nbformat_minor": 5
}
