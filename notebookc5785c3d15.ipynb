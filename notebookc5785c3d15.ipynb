{
 "cells": [
  {
   "cell_type": "code",
   "execution_count": 1,
   "id": "aa4985ae",
   "metadata": {
    "execution": {
     "iopub.execute_input": "2024-03-18T17:50:33.896283Z",
     "iopub.status.busy": "2024-03-18T17:50:33.894973Z",
     "iopub.status.idle": "2024-03-18T17:50:33.910370Z",
     "shell.execute_reply": "2024-03-18T17:50:33.908899Z"
    },
    "papermill": {
     "duration": 0.021832,
     "end_time": "2024-03-18T17:50:33.913203",
     "exception": false,
     "start_time": "2024-03-18T17:50:33.891371",
     "status": "completed"
    },
    "tags": []
   },
   "outputs": [],
   "source": [
    "import numpy as np"
   ]
  }
 ],
 "metadata": {
  "kaggle": {
   "accelerator": "none",
   "dataSources": [],
   "isGpuEnabled": false,
   "isInternetEnabled": true,
   "language": "python",
   "sourceType": "notebook"
  },
  "kernelspec": {
   "display_name": "Python 3",
   "language": "python",
   "name": "python3"
  },
  "language_info": {
   "codemirror_mode": {
    "name": "ipython",
    "version": 3
   },
   "file_extension": ".py",
   "mimetype": "text/x-python",
   "name": "python",
   "nbconvert_exporter": "python",
   "pygments_lexer": "ipython3",
   "version": "3.10.13"
  },
  "papermill": {
   "default_parameters": {},
   "duration": 3.765905,
   "end_time": "2024-03-18T17:50:34.336414",
   "environment_variables": {},
   "exception": null,
   "input_path": "__notebook__.ipynb",
   "output_path": "__notebook__.ipynb",
   "parameters": {},
   "start_time": "2024-03-18T17:50:30.570509",
   "version": "2.5.0"
  }
 },
 "nbformat": 4,
 "nbformat_minor": 5
}
